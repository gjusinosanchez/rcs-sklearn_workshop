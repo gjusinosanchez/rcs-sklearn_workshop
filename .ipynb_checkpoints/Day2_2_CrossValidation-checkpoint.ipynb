{
 "cells": [
  {
   "cell_type": "markdown",
   "id": "e513c51e-042b-41dc-a16c-c1386bbe0013",
   "metadata": {},
   "source": [
    "# <br><br><span style=\"color:rebeccapurple\">Cross validation</span>\n",
    "\n",
    "There are several types of cross validation (CV). In fact, the train/test split is sometimes referred to as the holdout method for CV. \n",
    "\n",
    "CV can be used for multiple purposes:\n",
    "- Evaluate a model's performance and variability of model parameters\n",
    "- Tune hyperparameters\n",
    "- Compare the performance of different models (e.g. logistic regression vs decision tree)\n",
    "- ...\n",
    "\n",
    "There are several variations of CV. We will explore k-fold CV for comparing performance of different models. The data is randomly split into $k$ disjoint subparts or \"folds\" and each fold will take turn to be the validation (hold-out) set while the rest are used for training.\n",
    "\n",
    "<div>\n",
    "<center><img src=\"figures/kfoldCV_process.png\" width=\"700\"/>\n",
    "<center> Source: Author   "
   ]
  },
  {
   "cell_type": "markdown",
   "id": "cb2a8ac6-2fe5-49e9-94ab-f3997b19a799",
   "metadata": {},
   "source": [
    "This is a bit different from the procedure to evaluate a model's performance (Day 1's materials). To compare different models, we still hold out a test set while applying $k$-fold split to the train set."
   ]
  },
  {
   "cell_type": "markdown",
   "id": "e8a69e9e-ba3c-4c74-8681-08c26a3c0147",
   "metadata": {},
   "source": [
    "In the figure above, we use a 5-fold CV. We will iterate through each fold. In iteration $i$, \n",
    "- take fold $i$ as the validation set\n",
    "- train the model on the instances in the remaining folds (and optionaly obtain a set of model parameters)\n",
    "- compute performance metrics (e.g. MSE) on the validation set\n",
    "\n",
    "In the end, we will have gone through 5 iterations and obtained 5 performance metrics on a model. \n",
    "\n",
    "Suppose we want to compare Model A and Model B. We will \n",
    "- apply this procedure on the training data for both models\n",
    "- pick the model that produce better (averaged) performance metrics. For example: we pick Model A\n",
    "- train Model A on the entire train set and compute the performance metrics of Model A on the test set"
   ]
  },
  {
   "cell_type": "markdown",
   "id": "d68019dc-2241-4139-8879-389cbc7d86be",
   "metadata": {},
   "source": [
    "# <br><br><span style=\"color:rebeccapurple\">Disadvantages</span>\n",
    "\n",
    "The estimate of model performance via $k$-fold cross-validation depends heaviy on the specific split of the data into $k$ folds. For each different split, we obtain different subsets of the data and, consequently, a different distribution of performance scores. \n",
    "\n",
    "One solution is to repeat the $k$-fold cross-validation process multiple times. Repeated $k$-fold reports the mean performance across all folds and all repeats. "
   ]
  },
  {
   "cell_type": "markdown",
   "id": "9e17d9be-4756-45bb-bd4d-2dfcdbe4c72d",
   "metadata": {},
   "source": [
    "# <br><br><span style=\"color:rebeccapurple\">Let's code!</span>"
   ]
  },
  {
   "cell_type": "code",
   "execution_count": 2,
   "id": "49a765fe-9a20-44cc-9a07-8dbc03d1f1eb",
   "metadata": {},
   "outputs": [],
   "source": [
    "import numpy as np\n",
    "import pandas as pd\n",
    "import matplotlib.pyplot as plt\n",
    "import seaborn as sns\n",
    "import sklearn"
   ]
  },
  {
   "cell_type": "code",
   "execution_count": 3,
   "id": "d187af92-c66b-4309-85f4-48312ed61efc",
   "metadata": {},
   "outputs": [],
   "source": [
    "## If you're running on Google Colab, you should uncomment the line below.\n",
    "# df = pd.read_csv('https://raw.githubusercontent.com/ja-nguyen/rcs-sklearn_workshop/main/datasets/iris_binary.csv')\n",
    "\n",
    "## If you're running on Google Colab, you should comment out the line below\n",
    "df = pd.read_csv('datasets/iris_binary.csv')"
   ]
  },
  {
   "cell_type": "markdown",
   "id": "ee75ccdc-95b5-427a-ab96-99839de2747c",
   "metadata": {},
   "source": [
    "## <br><span style=\"color:teal\"> Build pipeline\n",
    "    \n",
    "We follow the same procedure to build the pipeline for preprocessing and model."
   ]
  },
  {
   "cell_type": "code",
   "execution_count": 20,
   "id": "a51c98bb-e9e2-45ba-a30c-9d55be1cb27a",
   "metadata": {},
   "outputs": [],
   "source": [
    "# Get the feature columns for easier access\n",
    "feature_names = df.columns.values[:-1]\n",
    "# Split the dataset into predictors and response\n",
    "X = df[feature_names]\n",
    "Y = df['target']\n",
    "\n",
    "# Transform the target into numerical values - Note: preprocessor in Pipeline is applied to predictors only, not target\n",
    "from sklearn.preprocessing import LabelEncoder\n",
    "enc = LabelEncoder().fit(Y)\n",
    "labels = enc.classes_\n",
    "Y_num = enc.transform(Y)\n",
    "\n",
    "# Split data \n",
    "from sklearn.model_selection import train_test_split\n",
    "X_train, X_test, Y_train, Y_test = train_test_split(X, Y_num, test_size=0.2, random_state=10)\n",
    "\n",
    "# Create preprocessor pipeline\n",
    "from sklearn.pipeline import Pipeline\n",
    "from sklearn.impute import SimpleImputer\n",
    "preprocessor = Pipeline(steps=[('nan', SimpleImputer(strategy='mean'))])\n",
    "\n",
    "# Combine preprocessor and model\n",
    "from sklearn.tree import DecisionTreeClassifier\n",
    "model_tree = Pipeline(steps=[('preprocessor', preprocessor),\n",
    "                      ('tree', DecisionTreeClassifier(criterion='gini'))])\n",
    "\n",
    "from sklearn.linear_model import LogisticRegression\n",
    "model_logistic = Pipeline(steps=[('preprocessor', preprocessor),\n",
    "                      ('regressor', LogisticRegression())])"
   ]
  },
  {
   "cell_type": "markdown",
   "id": "10c7452b-4f5b-490c-8bf1-62cdb65d59df",
   "metadata": {},
   "source": [
    "## <br><span style=\"color:teal\"> Set up cross validation\n",
    "    \n",
    "The RepeatedKFold module in scikit-learn automatically creates the splits. \n",
    "\n",
    "Suppose we want to do a 5-fold CV and repeat the process 6 times."
   ]
  },
  {
   "cell_type": "code",
   "execution_count": 21,
   "id": "72318986-69a0-45e7-891c-781482f42378",
   "metadata": {},
   "outputs": [],
   "source": [
    "from sklearn.model_selection import RepeatedKFold\n",
    "cv = RepeatedKFold(n_splits=5, n_repeats=6, random_state=0)"
   ]
  },
  {
   "cell_type": "markdown",
   "id": "94165966-ef28-47ff-aacc-b56db75fd691",
   "metadata": {},
   "source": [
    "Instead of calling model.fit(), we will need to use the cross_validate module to implement CV."
   ]
  },
  {
   "cell_type": "code",
   "execution_count": 43,
   "id": "e8d9eca6-1d90-4945-a66b-77c51cbda0d1",
   "metadata": {},
   "outputs": [],
   "source": [
    "from sklearn.model_selection import cross_validate\n",
    "cv_tree = cross_validate(\n",
    "    model_tree,\n",
    "    X_train,\n",
    "    Y_train,\n",
    "    cv=cv,\n",
    "    scoring=['accuracy', 'precision', 'recall', 'f1'],\n",
    ")\n",
    "\n",
    "cv_logistic = cross_validate(\n",
    "    model_logistic,\n",
    "    X_train,\n",
    "    Y_train,\n",
    "    cv=cv,\n",
    "    scoring=['accuracy', 'precision', 'recall', 'f1'],\n",
    ")"
   ]
  },
  {
   "cell_type": "markdown",
   "id": "8265f045-afd8-4fc7-80f8-666c45b8b0a0",
   "metadata": {},
   "source": [
    "## <br><span style=\"color:teal\"> Compare the performance of two models\n",
    "\n",
    "cross_validation module return a dictionary"
   ]
  },
  {
   "cell_type": "code",
   "execution_count": 52,
   "id": "5ad76502-2832-4e89-98f7-f05d4b068f8a",
   "metadata": {},
   "outputs": [
    {
     "name": "stdout",
     "output_type": "stream",
     "text": [
      "<class 'dict'>\n"
     ]
    }
   ],
   "source": [
    "print(type(cv_tree))"
   ]
  },
  {
   "cell_type": "code",
   "execution_count": 53,
   "id": "a2c4a82b-4a90-498d-aa3e-21fd1f1df3f9",
   "metadata": {},
   "outputs": [
    {
     "data": {
      "text/plain": [
       "dict_keys(['fit_time', 'score_time', 'test_accuracy', 'test_precision', 'test_recall', 'test_f1'])"
      ]
     },
     "execution_count": 53,
     "metadata": {},
     "output_type": "execute_result"
    }
   ],
   "source": [
    "cv_tree.keys()"
   ]
  },
  {
   "cell_type": "markdown",
   "id": "04ef29a5-7e04-4cb3-98f2-34d20db689b4",
   "metadata": {},
   "source": [
    "Since we're only interested in comparing performance metrics and not time complexity, we will keep the metrics only."
   ]
  },
  {
   "cell_type": "code",
   "execution_count": 54,
   "id": "789349f8-019a-4bca-83c6-17bd4f10e71d",
   "metadata": {},
   "outputs": [],
   "source": [
    "metrics = ['test_accuracy', 'test_precision', 'test_recall', 'test_f1']\n",
    "results_tree = pd.DataFrame(cv_tree)[metrics]\n",
    "results_tree['model'] = 'Decision Tree'\n",
    "results_logistic = pd.DataFrame(cv_logistic)[metrics]\n",
    "results_logistic['model'] = 'Linear Model'"
   ]
  },
  {
   "cell_type": "code",
   "execution_count": 57,
   "id": "eb35e5b2-a83e-4729-b60b-14d40e00c93a",
   "metadata": {},
   "outputs": [
    {
     "data": {
      "text/html": [
       "<div>\n",
       "<style scoped>\n",
       "    .dataframe tbody tr th:only-of-type {\n",
       "        vertical-align: middle;\n",
       "    }\n",
       "\n",
       "    .dataframe tbody tr th {\n",
       "        vertical-align: top;\n",
       "    }\n",
       "\n",
       "    .dataframe thead th {\n",
       "        text-align: right;\n",
       "    }\n",
       "</style>\n",
       "<table border=\"1\" class=\"dataframe\">\n",
       "  <thead>\n",
       "    <tr style=\"text-align: right;\">\n",
       "      <th></th>\n",
       "      <th>test_accuracy</th>\n",
       "      <th>test_precision</th>\n",
       "      <th>test_recall</th>\n",
       "      <th>test_f1</th>\n",
       "      <th>model</th>\n",
       "    </tr>\n",
       "  </thead>\n",
       "  <tbody>\n",
       "    <tr>\n",
       "      <th>0</th>\n",
       "      <td>0.9375</td>\n",
       "      <td>0.916667</td>\n",
       "      <td>1.000000</td>\n",
       "      <td>0.956522</td>\n",
       "      <td>Decision Tree</td>\n",
       "    </tr>\n",
       "    <tr>\n",
       "      <th>1</th>\n",
       "      <td>0.9375</td>\n",
       "      <td>1.000000</td>\n",
       "      <td>0.909091</td>\n",
       "      <td>0.952381</td>\n",
       "      <td>Decision Tree</td>\n",
       "    </tr>\n",
       "    <tr>\n",
       "      <th>2</th>\n",
       "      <td>0.9375</td>\n",
       "      <td>0.857143</td>\n",
       "      <td>1.000000</td>\n",
       "      <td>0.923077</td>\n",
       "      <td>Decision Tree</td>\n",
       "    </tr>\n",
       "    <tr>\n",
       "      <th>3</th>\n",
       "      <td>0.8750</td>\n",
       "      <td>1.000000</td>\n",
       "      <td>0.800000</td>\n",
       "      <td>0.888889</td>\n",
       "      <td>Decision Tree</td>\n",
       "    </tr>\n",
       "    <tr>\n",
       "      <th>4</th>\n",
       "      <td>0.9375</td>\n",
       "      <td>0.833333</td>\n",
       "      <td>1.000000</td>\n",
       "      <td>0.909091</td>\n",
       "      <td>Decision Tree</td>\n",
       "    </tr>\n",
       "  </tbody>\n",
       "</table>\n",
       "</div>"
      ],
      "text/plain": [
       "   test_accuracy  test_precision  test_recall   test_f1          model\n",
       "0         0.9375        0.916667     1.000000  0.956522  Decision Tree\n",
       "1         0.9375        1.000000     0.909091  0.952381  Decision Tree\n",
       "2         0.9375        0.857143     1.000000  0.923077  Decision Tree\n",
       "3         0.8750        1.000000     0.800000  0.888889  Decision Tree\n",
       "4         0.9375        0.833333     1.000000  0.909091  Decision Tree"
      ]
     },
     "execution_count": 57,
     "metadata": {},
     "output_type": "execute_result"
    }
   ],
   "source": [
    "# Combine the two sets of results\n",
    "results = pd.concat([results_tree, results_logistic])\n",
    "results.head()"
   ]
  },
  {
   "cell_type": "code",
   "execution_count": 100,
   "id": "95c5211e-ec8d-4b77-888d-0838a6ef892f",
   "metadata": {},
   "outputs": [
    {
     "data": {
      "text/html": [
       "<div>\n",
       "<style scoped>\n",
       "    .dataframe tbody tr th:only-of-type {\n",
       "        vertical-align: middle;\n",
       "    }\n",
       "\n",
       "    .dataframe tbody tr th {\n",
       "        vertical-align: top;\n",
       "    }\n",
       "\n",
       "    .dataframe thead tr th {\n",
       "        text-align: left;\n",
       "    }\n",
       "\n",
       "    .dataframe thead tr:last-of-type th {\n",
       "        text-align: right;\n",
       "    }\n",
       "</style>\n",
       "<table border=\"1\" class=\"dataframe\">\n",
       "  <thead>\n",
       "    <tr>\n",
       "      <th></th>\n",
       "      <th colspan=\"2\" halign=\"left\">test_accuracy</th>\n",
       "      <th colspan=\"2\" halign=\"left\">test_precision</th>\n",
       "      <th colspan=\"2\" halign=\"left\">test_recall</th>\n",
       "      <th colspan=\"2\" halign=\"left\">test_f1</th>\n",
       "    </tr>\n",
       "    <tr>\n",
       "      <th></th>\n",
       "      <th>std</th>\n",
       "      <th>mean</th>\n",
       "      <th>std</th>\n",
       "      <th>mean</th>\n",
       "      <th>std</th>\n",
       "      <th>mean</th>\n",
       "      <th>std</th>\n",
       "      <th>mean</th>\n",
       "    </tr>\n",
       "    <tr>\n",
       "      <th>model</th>\n",
       "      <th></th>\n",
       "      <th></th>\n",
       "      <th></th>\n",
       "      <th></th>\n",
       "      <th></th>\n",
       "      <th></th>\n",
       "      <th></th>\n",
       "      <th></th>\n",
       "    </tr>\n",
       "  </thead>\n",
       "  <tbody>\n",
       "    <tr>\n",
       "      <th>Decision Tree</th>\n",
       "      <td>0.053647</td>\n",
       "      <td>0.922917</td>\n",
       "      <td>0.079797</td>\n",
       "      <td>0.937496</td>\n",
       "      <td>0.091852</td>\n",
       "      <td>0.929691</td>\n",
       "      <td>0.047782</td>\n",
       "      <td>0.927561</td>\n",
       "    </tr>\n",
       "    <tr>\n",
       "      <th>Linear Model</th>\n",
       "      <td>0.057797</td>\n",
       "      <td>0.950000</td>\n",
       "      <td>0.000000</td>\n",
       "      <td>1.000000</td>\n",
       "      <td>0.101127</td>\n",
       "      <td>0.907191</td>\n",
       "      <td>0.057046</td>\n",
       "      <td>0.948416</td>\n",
       "    </tr>\n",
       "  </tbody>\n",
       "</table>\n",
       "</div>"
      ],
      "text/plain": [
       "              test_accuracy           test_precision           test_recall  \\\n",
       "                        std      mean            std      mean         std   \n",
       "model                                                                        \n",
       "Decision Tree      0.053647  0.922917       0.079797  0.937496    0.091852   \n",
       "Linear Model       0.057797  0.950000       0.000000  1.000000    0.101127   \n",
       "\n",
       "                          test_f1            \n",
       "                   mean       std      mean  \n",
       "model                                        \n",
       "Decision Tree  0.929691  0.047782  0.927561  \n",
       "Linear Model   0.907191  0.057046  0.948416  "
      ]
     },
     "execution_count": 100,
     "metadata": {},
     "output_type": "execute_result"
    }
   ],
   "source": [
    "# Get the mean and standard deviation of each metric\n",
    "avg = results.groupby(['model'])[metrics].agg([np.std, np.mean])\n",
    "avg"
   ]
  },
  {
   "cell_type": "markdown",
   "id": "8962d88d-d450-4da0-bb12-0286c0d7b8d8",
   "metadata": {},
   "source": [
    "We can also visualize the results"
   ]
  },
  {
   "cell_type": "code",
   "execution_count": 82,
   "id": "4c3be429-863a-4e8c-b341-b44e06b7adbb",
   "metadata": {},
   "outputs": [
    {
     "data": {
      "text/plain": [
       "Text(0.5, 1.0, 'Comparison of Model by Classification Metric')"
      ]
     },
     "execution_count": 82,
     "metadata": {},
     "output_type": "execute_result"
    },
    {
     "data": {
      "image/png": "[encoded data removed]",
      "text/plain": [
       "<Figure size 1440x864 with 1 Axes>"
      ]
     },
     "metadata": {},
     "output_type": "display_data"
    }
   ],
   "source": [
    "# Pivot the data frame to get long format\n",
    "results_long = pd.melt(results, id_vars=['model'], var_name='metrics', value_name='values')\n",
    "\n",
    "plt.figure(figsize=(20, 12))\n",
    "g = sns.boxplot(x=\"model\", y=\"values\", hue=\"metrics\", data=results_long, palette=\"Set3\", width=.5, whis=10.)\n",
    "plt.legend(bbox_to_anchor=(1.05, 1), loc=2, borderaxespad=0.)\n",
    "plt.title('Comparison of Model by Classification Metric')"
   ]
  },
  {
   "cell_type": "markdown",
   "id": "b13cda38-64ea-45fd-ba4e-b8ad749f522d",
   "metadata": {},
   "source": [
    "We need to pick a metric to base our comparison. Reminder, $f1$ score is the harmonic mean of precision and recall. Typically, we can choose between accuracy and $f1$ score.\n",
    "- accuracy: balanced dataset (no class dominating)\n",
    "- $f1$ score: imbalanced dataset\n",
    "\n",
    "Of course, this is more nuanced in practice and there are situations where other metrics should be used. \n",
    "\n",
    "In our case, both metrics are higher on average for the linear (logistic) model."
   ]
  },
  {
   "cell_type": "markdown",
   "id": "703cc624-ca43-4071-842f-a38405462ae7",
   "metadata": {},
   "source": [
    "## <br><span style=\"color:teal\"> Evaluate the final performance score\n",
    "    \n",
    "### <br><span style=\"color:blue\"> Practice\n",
    "\n",
    "Retrain the logistic model on the entire train set and compute the final performance score using the test set. \n",
    "    \n",
    "Reminder: you can use the classification_report function (from sklearn.metrics) to get these scores. You can refer to the Decision Tree notebook to see how it is used."
   ]
  },
  {
   "cell_type": "code",
   "execution_count": null,
   "id": "dabf7536-3e2b-42e6-affa-b9adff3ba54c",
   "metadata": {},
   "outputs": [],
   "source": []
  },
  {
   "cell_type": "code",
   "execution_count": null,
   "id": "26fe74ec-9b60-4005-a755-a400b34ab98a",
   "metadata": {},
   "outputs": [],
   "source": []
  },
  {
   "cell_type": "markdown",
   "id": "3fe85c79-973a-46d1-b26e-81ed91901525",
   "metadata": {},
   "source": [
    "# <br><span style=\"color:purple\"> Additional materials"
   ]
  },
  {
   "cell_type": "markdown",
   "id": "3805257f-6598-4470-bf13-fae3afa2868f",
   "metadata": {},
   "source": [
    "### <br><span style=\"color:blue\"> Use $k$-fold CV to tune hyperparameters\n",
    "    \n",
    "Tuning hyperparameters is essentially comparing performances of different model configurations. Suppose we want to tune the hyperparameter min_samples_leaf of decision tree. We can follow the same procedure of comparing two models. \n",
    "    \n",
    "scikit-learn has a special module to automate this process. GridSearchCV takes a list of hyperparameters and their values and applies CV."
   ]
  },
  {
   "cell_type": "code",
   "execution_count": 102,
   "id": "c058a655-e9dd-44ae-a80f-ea71f1f0cab0",
   "metadata": {},
   "outputs": [],
   "source": [
    "model = Pipeline(steps=[('preprocessor', preprocessor),\n",
    "                      ('tree', DecisionTreeClassifier(criterion='gini'))])"
   ]
  },
  {
   "cell_type": "markdown",
   "id": "83755f87-2740-47f1-a666-30a5aa6c929e",
   "metadata": {},
   "source": [
    "To check what the model's hyperparameters are"
   ]
  },
  {
   "cell_type": "code",
   "execution_count": 103,
   "id": "37178e5c-371a-4a74-8c6d-33c27df6115d",
   "metadata": {},
   "outputs": [
    {
     "data": {
      "text/plain": [
       "dict_keys(['memory', 'steps', 'verbose', 'preprocessor', 'tree', 'preprocessor__memory', 'preprocessor__steps', 'preprocessor__verbose', 'preprocessor__nan', 'preprocessor__nan__add_indicator', 'preprocessor__nan__copy', 'preprocessor__nan__fill_value', 'preprocessor__nan__missing_values', 'preprocessor__nan__strategy', 'preprocessor__nan__verbose', 'tree__ccp_alpha', 'tree__class_weight', 'tree__criterion', 'tree__max_depth', 'tree__max_features', 'tree__max_leaf_nodes', 'tree__min_impurity_decrease', 'tree__min_impurity_split', 'tree__min_samples_leaf', 'tree__min_samples_split', 'tree__min_weight_fraction_leaf', 'tree__random_state', 'tree__splitter'])"
      ]
     },
     "execution_count": 103,
     "metadata": {},
     "output_type": "execute_result"
    }
   ],
   "source": [
    "model.get_params().keys()"
   ]
  },
  {
   "cell_type": "markdown",
   "id": "685bb0e6-a5c2-4dd4-87d1-9452e4ad4d84",
   "metadata": {},
   "source": [
    "What we want to tune is stored in the model as 'tree__min_samples_leaf'. Suppose we want to test the values (1,3,5,7,9). We need to create a dictionary with keys being the hyperparameter names. "
   ]
  },
  {
   "cell_type": "code",
   "execution_count": 128,
   "id": "7d3b6b2b-66be-40eb-9f5e-41d2d5ee3b33",
   "metadata": {},
   "outputs": [
    {
     "data": {
      "text/plain": [
       "{'tree__min_samples_leaf': array([1, 3, 5, 7, 9])}"
      ]
     },
     "execution_count": 128,
     "metadata": {},
     "output_type": "execute_result"
    }
   ],
   "source": [
    "parameters = {'tree__min_samples_leaf': np.arange(1, 10, 2)}\n",
    "parameters"
   ]
  },
  {
   "cell_type": "code",
   "execution_count": 137,
   "id": "a12976fd-6ef9-4366-b0f1-783ba607f02d",
   "metadata": {},
   "outputs": [],
   "source": [
    "from sklearn.model_selection import RepeatedKFold\n",
    "cv = RepeatedKFold(n_splits=5, n_repeats=6, random_state=0)"
   ]
  },
  {
   "cell_type": "code",
   "execution_count": 143,
   "id": "e41293ac-76e1-4649-a3e2-cd70e6aa79e4",
   "metadata": {},
   "outputs": [
    {
     "data": {
      "text/plain": [
       "GridSearchCV(cv=RepeatedKFold(n_repeats=6, n_splits=5, random_state=0),\n",
       "             estimator=Pipeline(steps=[('preprocessor',\n",
       "                                        Pipeline(steps=[('nan',\n",
       "                                                         SimpleImputer())])),\n",
       "                                       ('tree', DecisionTreeClassifier())]),\n",
       "             param_grid={'tree__min_samples_leaf': array([1, 3, 5, 7, 9])},\n",
       "             scoring='accuracy')"
      ]
     },
     "execution_count": 143,
     "metadata": {},
     "output_type": "execute_result"
    }
   ],
   "source": [
    "from sklearn.model_selection import GridSearchCV\n",
    "tuning = GridSearchCV(model, parameters, cv=cv, scoring='accuracy')\n",
    "tuning.fit(X_train, Y_train)"
   ]
  },
  {
   "cell_type": "markdown",
   "id": "26829dac-ba78-4dd6-813d-437f5e733c2b",
   "metadata": {},
   "source": [
    "We can access the mean score, standard deviation and ranking."
   ]
  },
  {
   "cell_type": "code",
   "execution_count": 145,
   "id": "c1052126-b3d9-46b0-98fd-c6b49e1bc377",
   "metadata": {},
   "outputs": [
    {
     "data": {
      "text/html": [
       "<div>\n",
       "<style scoped>\n",
       "    .dataframe tbody tr th:only-of-type {\n",
       "        vertical-align: middle;\n",
       "    }\n",
       "\n",
       "    .dataframe tbody tr th {\n",
       "        vertical-align: top;\n",
       "    }\n",
       "\n",
       "    .dataframe thead th {\n",
       "        text-align: right;\n",
       "    }\n",
       "</style>\n",
       "<table border=\"1\" class=\"dataframe\">\n",
       "  <thead>\n",
       "    <tr style=\"text-align: right;\">\n",
       "      <th></th>\n",
       "      <th>param_tree__min_samples_leaf</th>\n",
       "      <th>mean_test_score</th>\n",
       "      <th>std_test_score</th>\n",
       "      <th>rank_test_score</th>\n",
       "    </tr>\n",
       "  </thead>\n",
       "  <tbody>\n",
       "    <tr>\n",
       "      <th>0</th>\n",
       "      <td>1</td>\n",
       "      <td>0.922917</td>\n",
       "      <td>0.050217</td>\n",
       "      <td>4</td>\n",
       "    </tr>\n",
       "    <tr>\n",
       "      <th>1</th>\n",
       "      <td>3</td>\n",
       "      <td>0.920833</td>\n",
       "      <td>0.058035</td>\n",
       "      <td>5</td>\n",
       "    </tr>\n",
       "    <tr>\n",
       "      <th>2</th>\n",
       "      <td>5</td>\n",
       "      <td>0.929167</td>\n",
       "      <td>0.061942</td>\n",
       "      <td>3</td>\n",
       "    </tr>\n",
       "    <tr>\n",
       "      <th>3</th>\n",
       "      <td>7</td>\n",
       "      <td>0.941667</td>\n",
       "      <td>0.060237</td>\n",
       "      <td>1</td>\n",
       "    </tr>\n",
       "    <tr>\n",
       "      <th>4</th>\n",
       "      <td>9</td>\n",
       "      <td>0.937500</td>\n",
       "      <td>0.066536</td>\n",
       "      <td>2</td>\n",
       "    </tr>\n",
       "  </tbody>\n",
       "</table>\n",
       "</div>"
      ],
      "text/plain": [
       "  param_tree__min_samples_leaf  mean_test_score  std_test_score  \\\n",
       "0                            1         0.922917        0.050217   \n",
       "1                            3         0.920833        0.058035   \n",
       "2                            5         0.929167        0.061942   \n",
       "3                            7         0.941667        0.060237   \n",
       "4                            9         0.937500        0.066536   \n",
       "\n",
       "   rank_test_score  \n",
       "0                4  \n",
       "1                5  \n",
       "2                3  \n",
       "3                1  \n",
       "4                2  "
      ]
     },
     "execution_count": 145,
     "metadata": {},
     "output_type": "execute_result"
    }
   ],
   "source": [
    "results_tuning = pd.DataFrame(tuning.cv_results_)\n",
    "results_tuning[['param_tree__min_samples_leaf', 'mean_test_score', 'std_test_score', 'rank_test_score']]"
   ]
  },
  {
   "cell_type": "markdown",
   "id": "031d6c88-7a3d-4c51-add2-5f2f62e0025c",
   "metadata": {},
   "source": [
    "We can directly access the hyperparameter that is ranked the highest"
   ]
  },
  {
   "cell_type": "code",
   "execution_count": 146,
   "id": "2088b4f0-e503-4b8d-a94c-19e8019c679d",
   "metadata": {},
   "outputs": [
    {
     "data": {
      "text/plain": [
       "7"
      ]
     },
     "execution_count": 146,
     "metadata": {},
     "output_type": "execute_result"
    }
   ],
   "source": [
    "tuning.best_estimator_.named_steps[\"tree\"].min_samples_leaf"
   ]
  },
  {
   "cell_type": "markdown",
   "id": "e6d1949d-3eec-440e-92e8-dd96d7bfece9",
   "metadata": {},
   "source": [
    "and the corresponding score."
   ]
  },
  {
   "cell_type": "code",
   "execution_count": 147,
   "id": "0788bf03-cd4d-423e-95a6-020444fa15c8",
   "metadata": {},
   "outputs": [
    {
     "data": {
      "text/plain": [
       "0.9416666666666667"
      ]
     },
     "execution_count": 147,
     "metadata": {},
     "output_type": "execute_result"
    }
   ],
   "source": [
    "tuning.best_score_"
   ]
  },
  {
   "cell_type": "markdown",
   "id": "0677433d-e29b-458d-abdb-b4b184dc8dfc",
   "metadata": {},
   "source": [
    "### <br><span style=\"color:blue\"> Practice\n",
    "\n",
    "Retrain the decision tree model with the chosen hyperparameter using the entire train set and produce a classification report using the test set."
   ]
  },
  {
   "cell_type": "code",
   "execution_count": null,
   "id": "6acf3de6-508e-4dff-b350-a14bff2d8431",
   "metadata": {},
   "outputs": [],
   "source": []
  },
  {
   "cell_type": "code",
   "execution_count": null,
   "id": "79206abc-d0fb-47ef-8309-8ff3aeba4793",
   "metadata": {},
   "outputs": [],
   "source": []
  }
 ],
 "metadata": {
  "kernelspec": {
   "display_name": "Python 3 (ipykernel)",
   "language": "python",
   "name": "python3"
  },
  "language_info": {
   "codemirror_mode": {
    "name": "ipython",
    "version": 3
   },
   "file_extension": ".py",
   "mimetype": "text/x-python",
   "name": "python",
   "nbconvert_exporter": "python",
   "pygments_lexer": "ipython3",
   "version": "3.9.12"
  }
 },
 "nbformat": 4,
 "nbformat_minor": 5
}
