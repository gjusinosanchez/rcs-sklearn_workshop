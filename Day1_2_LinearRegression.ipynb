{
 "cells": [
  {
   "cell_type": "markdown",
   "metadata": {},
   "source": [
    "# <br><br><span style=\"color:rebeccapurple\">Overview</span>\n",
    "In this section, we will learn how to\n",
    "\n",
    "1. split the dataset into train/test set\n",
    "2. build a pipeline for preprocessing and modeling"
   ]
  },
  {
   "cell_type": "code",
   "execution_count": 1,
   "metadata": {},
   "outputs": [],
   "source": [
    "import numpy as np\n",
    "import pandas as pd\n",
    "import matplotlib.pyplot as plt\n",
    "import seaborn as sns\n",
    "import sklearn"
   ]
  },
  {
   "cell_type": "markdown",
   "metadata": {},
   "source": [
    "# <br><br><span style=\"color:rebeccapurple\">Supervised learning - Linear regression</span>\n",
    "\n",
    "Linear regression model is typically\n",
    "$$\n",
    "\\begin{align}\n",
    "y = \\beta_0 + \\sum_{i=1}^N \\beta_i x_i\n",
    "\\end{align}\n",
    "$$\n",
    "where $y$ is the output, $x_i$ are the predictors and $N$ is the number of predictors. What we want to learn is the set of parameters, or weights, $\\beta_i, i=0,...N$.\n",
    "\n",
    "To learn these parameters, sklearn will minimize there sidual sum of squares\n",
    "$$\n",
    "RSS = (y_{pred} - y_{obs})^2 = (\\beta_0 + \\sum_{i=1}^N \\beta_i x_i - y_{obs})^2\n",
    "$$\n",
    "where $M$ is the number of observations."
   ]
  },
  {
   "cell_type": "code",
   "execution_count": 2,
   "metadata": {},
   "outputs": [
    {
     "data": {
      "text/html": [
       "<div>\n",
       "<style scoped>\n",
       "    .dataframe tbody tr th:only-of-type {\n",
       "        vertical-align: middle;\n",
       "    }\n",
       "\n",
       "    .dataframe tbody tr th {\n",
       "        vertical-align: top;\n",
       "    }\n",
       "\n",
       "    .dataframe thead th {\n",
       "        text-align: right;\n",
       "    }\n",
       "</style>\n",
       "<table border=\"1\" class=\"dataframe\">\n",
       "  <thead>\n",
       "    <tr style=\"text-align: right;\">\n",
       "      <th></th>\n",
       "      <th>species</th>\n",
       "      <th>vertical_len</th>\n",
       "      <th>diag_len</th>\n",
       "      <th>cross_len</th>\n",
       "      <th>height</th>\n",
       "      <th>width</th>\n",
       "      <th>weight</th>\n",
       "    </tr>\n",
       "  </thead>\n",
       "  <tbody>\n",
       "    <tr>\n",
       "      <th>0</th>\n",
       "      <td>Bream</td>\n",
       "      <td>23.2</td>\n",
       "      <td>25.4</td>\n",
       "      <td>30.0</td>\n",
       "      <td>11.5200</td>\n",
       "      <td>4.0200</td>\n",
       "      <td>242.0</td>\n",
       "    </tr>\n",
       "    <tr>\n",
       "      <th>1</th>\n",
       "      <td>Bream</td>\n",
       "      <td>24.0</td>\n",
       "      <td>26.3</td>\n",
       "      <td>31.2</td>\n",
       "      <td>12.4800</td>\n",
       "      <td>4.3056</td>\n",
       "      <td>290.0</td>\n",
       "    </tr>\n",
       "    <tr>\n",
       "      <th>2</th>\n",
       "      <td>Bream</td>\n",
       "      <td>23.9</td>\n",
       "      <td>26.5</td>\n",
       "      <td>31.1</td>\n",
       "      <td>12.3778</td>\n",
       "      <td>4.6961</td>\n",
       "      <td>340.0</td>\n",
       "    </tr>\n",
       "    <tr>\n",
       "      <th>3</th>\n",
       "      <td>Bream</td>\n",
       "      <td>26.3</td>\n",
       "      <td>29.0</td>\n",
       "      <td>33.5</td>\n",
       "      <td>12.7300</td>\n",
       "      <td>4.4555</td>\n",
       "      <td>363.0</td>\n",
       "    </tr>\n",
       "    <tr>\n",
       "      <th>4</th>\n",
       "      <td>Bream</td>\n",
       "      <td>26.5</td>\n",
       "      <td>29.0</td>\n",
       "      <td>34.0</td>\n",
       "      <td>12.4440</td>\n",
       "      <td>5.1340</td>\n",
       "      <td>430.0</td>\n",
       "    </tr>\n",
       "  </tbody>\n",
       "</table>\n",
       "</div>"
      ],
      "text/plain": [
       "  species  vertical_len  diag_len  cross_len   height   width  weight\n",
       "0   Bream          23.2      25.4       30.0  11.5200  4.0200   242.0\n",
       "1   Bream          24.0      26.3       31.2  12.4800  4.3056   290.0\n",
       "2   Bream          23.9      26.5       31.1  12.3778  4.6961   340.0\n",
       "3   Bream          26.3      29.0       33.5  12.7300  4.4555   363.0\n",
       "4   Bream          26.5      29.0       34.0  12.4440  5.1340   430.0"
      ]
     },
     "execution_count": 2,
     "metadata": {},
     "output_type": "execute_result"
    }
   ],
   "source": [
    "## Import data\n",
    "df = pd.read_csv('datasets/fish.csv')\n",
    "df.head()"
   ]
  },
  {
   "cell_type": "markdown",
   "metadata": {},
   "source": [
    "Suppose we want to predict the weight (in log space) of a fish. We will build a model with the remaining features as predictors. "
   ]
  },
  {
   "cell_type": "code",
   "execution_count": 3,
   "metadata": {},
   "outputs": [
    {
     "data": {
      "text/plain": [
       "array(['species', 'vertical_len', 'diag_len', 'cross_len', 'height',\n",
       "       'width'], dtype=object)"
      ]
     },
     "execution_count": 3,
     "metadata": {},
     "output_type": "execute_result"
    }
   ],
   "source": [
    "# Get the feature columns for easier access\n",
    "feature_names = df.columns.values[:-1]\n",
    "feature_names "
   ]
  },
  {
   "cell_type": "code",
   "execution_count": 4,
   "metadata": {},
   "outputs": [],
   "source": [
    "# Split the dataset into predictors and response\n",
    "X = df[feature_names]\n",
    "Y = np.log(df['weight'])"
   ]
  },
  {
   "cell_type": "markdown",
   "metadata": {},
   "source": [
    "Note that the target feature is log-scaled. This is typically done to data with a long tail. You can check out the Additional Materials section for more information."
   ]
  },
  {
   "cell_type": "markdown",
   "metadata": {
    "tags": []
   },
   "source": [
    "## <br><span style=\"color:teal\"> Split samples into train and test dataset\n",
    "\n",
    "An important aspect of machine learning that sets itself apart from fields like optimization is that in addition to the training error, we want to minimize the generalization error. In other words, we want to make sure that the trained model generalizes well to unobserved/future inputs. That is why we need to split our dataset into train and test set.\n",
    "    \n",
    "These 2 sets should be disjoint, i.e., one instance shouldn't be in both sets. (When dataset is too small, there are special measures but we will not cover here.)\n",
    "    \n",
    "The typical split is 80%-20% for train vs test set. In sklearn it is defaulted to 75-25 (or more accurately 0.75-0.25). \n",
    "    \n",
    "The train dataset is used to learn the model.\n",
    "The test dataset is used to estimate generalization error. \n"
   ]
  },
  {
   "cell_type": "code",
   "execution_count": 5,
   "metadata": {},
   "outputs": [],
   "source": [
    "from sklearn.model_selection import train_test_split\n",
    "\n",
    "X_train, X_test, Y_train, Y_test = train_test_split(X, Y, test_size=0.2, random_state=0)"
   ]
  },
  {
   "cell_type": "code",
   "execution_count": 6,
   "metadata": {},
   "outputs": [
    {
     "data": {
      "text/html": [
       "<div>\n",
       "<style scoped>\n",
       "    .dataframe tbody tr th:only-of-type {\n",
       "        vertical-align: middle;\n",
       "    }\n",
       "\n",
       "    .dataframe tbody tr th {\n",
       "        vertical-align: top;\n",
       "    }\n",
       "\n",
       "    .dataframe thead th {\n",
       "        text-align: right;\n",
       "    }\n",
       "</style>\n",
       "<table border=\"1\" class=\"dataframe\">\n",
       "  <thead>\n",
       "    <tr style=\"text-align: right;\">\n",
       "      <th></th>\n",
       "      <th>species</th>\n",
       "      <th>vertical_len</th>\n",
       "      <th>diag_len</th>\n",
       "      <th>cross_len</th>\n",
       "      <th>height</th>\n",
       "      <th>width</th>\n",
       "    </tr>\n",
       "  </thead>\n",
       "  <tbody>\n",
       "    <tr>\n",
       "      <th>count</th>\n",
       "      <td>126</td>\n",
       "      <td>126.000000</td>\n",
       "      <td>126.000000</td>\n",
       "      <td>126.000000</td>\n",
       "      <td>126.000000</td>\n",
       "      <td>126.000000</td>\n",
       "    </tr>\n",
       "    <tr>\n",
       "      <th>unique</th>\n",
       "      <td>7</td>\n",
       "      <td>NaN</td>\n",
       "      <td>NaN</td>\n",
       "      <td>NaN</td>\n",
       "      <td>NaN</td>\n",
       "      <td>NaN</td>\n",
       "    </tr>\n",
       "    <tr>\n",
       "      <th>top</th>\n",
       "      <td>Perch</td>\n",
       "      <td>NaN</td>\n",
       "      <td>NaN</td>\n",
       "      <td>NaN</td>\n",
       "      <td>NaN</td>\n",
       "      <td>NaN</td>\n",
       "    </tr>\n",
       "    <tr>\n",
       "      <th>freq</th>\n",
       "      <td>45</td>\n",
       "      <td>NaN</td>\n",
       "      <td>NaN</td>\n",
       "      <td>NaN</td>\n",
       "      <td>NaN</td>\n",
       "      <td>NaN</td>\n",
       "    </tr>\n",
       "    <tr>\n",
       "      <th>mean</th>\n",
       "      <td>NaN</td>\n",
       "      <td>25.596032</td>\n",
       "      <td>27.717460</td>\n",
       "      <td>30.501587</td>\n",
       "      <td>8.831752</td>\n",
       "      <td>4.315787</td>\n",
       "    </tr>\n",
       "    <tr>\n",
       "      <th>std</th>\n",
       "      <td>NaN</td>\n",
       "      <td>9.668046</td>\n",
       "      <td>10.377037</td>\n",
       "      <td>11.326288</td>\n",
       "      <td>4.420481</td>\n",
       "      <td>1.706681</td>\n",
       "    </tr>\n",
       "    <tr>\n",
       "      <th>min</th>\n",
       "      <td>NaN</td>\n",
       "      <td>7.500000</td>\n",
       "      <td>8.400000</td>\n",
       "      <td>8.800000</td>\n",
       "      <td>1.728400</td>\n",
       "      <td>1.148400</td>\n",
       "    </tr>\n",
       "    <tr>\n",
       "      <th>25%</th>\n",
       "      <td>NaN</td>\n",
       "      <td>19.000000</td>\n",
       "      <td>21.000000</td>\n",
       "      <td>22.575000</td>\n",
       "      <td>5.731975</td>\n",
       "      <td>3.335100</td>\n",
       "    </tr>\n",
       "    <tr>\n",
       "      <th>50%</th>\n",
       "      <td>NaN</td>\n",
       "      <td>24.550000</td>\n",
       "      <td>26.500000</td>\n",
       "      <td>29.150000</td>\n",
       "      <td>7.469800</td>\n",
       "      <td>4.181100</td>\n",
       "    </tr>\n",
       "    <tr>\n",
       "      <th>75%</th>\n",
       "      <td>NaN</td>\n",
       "      <td>32.325000</td>\n",
       "      <td>35.000000</td>\n",
       "      <td>39.450000</td>\n",
       "      <td>12.266550</td>\n",
       "      <td>5.284075</td>\n",
       "    </tr>\n",
       "    <tr>\n",
       "      <th>max</th>\n",
       "      <td>NaN</td>\n",
       "      <td>59.000000</td>\n",
       "      <td>63.400000</td>\n",
       "      <td>68.000000</td>\n",
       "      <td>18.957000</td>\n",
       "      <td>8.142000</td>\n",
       "    </tr>\n",
       "  </tbody>\n",
       "</table>\n",
       "</div>"
      ],
      "text/plain": [
       "       species  vertical_len    diag_len   cross_len      height       width\n",
       "count      126    126.000000  126.000000  126.000000  126.000000  126.000000\n",
       "unique       7           NaN         NaN         NaN         NaN         NaN\n",
       "top      Perch           NaN         NaN         NaN         NaN         NaN\n",
       "freq        45           NaN         NaN         NaN         NaN         NaN\n",
       "mean       NaN     25.596032   27.717460   30.501587    8.831752    4.315787\n",
       "std        NaN      9.668046   10.377037   11.326288    4.420481    1.706681\n",
       "min        NaN      7.500000    8.400000    8.800000    1.728400    1.148400\n",
       "25%        NaN     19.000000   21.000000   22.575000    5.731975    3.335100\n",
       "50%        NaN     24.550000   26.500000   29.150000    7.469800    4.181100\n",
       "75%        NaN     32.325000   35.000000   39.450000   12.266550    5.284075\n",
       "max        NaN     59.000000   63.400000   68.000000   18.957000    8.142000"
      ]
     },
     "execution_count": 6,
     "metadata": {},
     "output_type": "execute_result"
    }
   ],
   "source": [
    "X_train.describe(include='all')"
   ]
  },
  {
   "cell_type": "markdown",
   "metadata": {},
   "source": [
    "We can see that our training dataset includes 1 categorical variable and 5 numerical variables. We will need to do some preprocessing, specifically one hot encoding and standardization. \n",
    "\n",
    "We can follow the procedure laid out in the preprocessing module. \n",
    "\n",
    "Important note: preprocessing should be fit to train dataset, instead of applying to the whole set, to avoid leakage of information. Data leakage essentially means that the training process has information about, and thus will create a bias toward, the test set, potentially leading to a deceptively good generalization result. \n",
    "\n",
    "After the preprocessor learns to fit to and transform the train dataset, it is then used to fit (only) to the test set. More specifically, in the case of standardization,the preprocessor will obtain the mean and standard deviation of the train set and use those statistics to transform the test set. As a result, after the transformation, the train set will definitely have 0 mean and unit standard deviation but the test set may not. "
   ]
  },
  {
   "cell_type": "code",
   "execution_count": 8,
   "metadata": {},
   "outputs": [
    {
     "data": {
      "text/plain": [
       "8.414785623150988e-17"
      ]
     },
     "execution_count": 8,
     "metadata": {},
     "output_type": "execute_result"
    }
   ],
   "source": [
    "from sklearn.preprocessing import StandardScaler\n",
    "scaler = StandardScaler().fit(X_train[['height']])\n",
    "train_scaled = scaler.transform(X_train[['height']])\n",
    "np.mean(train_scaled)"
   ]
  },
  {
   "cell_type": "code",
   "execution_count": 9,
   "metadata": {},
   "outputs": [
    {
     "data": {
      "text/plain": [
       "0.17386194582393663"
      ]
     },
     "execution_count": 9,
     "metadata": {},
     "output_type": "execute_result"
    }
   ],
   "source": [
    "test_scaled = scaler.transform(X_test[['height']])\n",
    "np.mean(test_scaled)"
   ]
  },
  {
   "cell_type": "markdown",
   "metadata": {},
   "source": [
    "## <br><span style=\"color:teal\"> Create pipelines\n",
    "    \n",
    "We can manually apply all the transformations presented in the previous module but sklearn has a convenient feature called Pipeline, which chains all estimators.\n",
    "\n",
    "Typically, all estimators in a pipeline, except the last one, will be used to preprocess the data and must be transformers (i.e. must make changes to the data). The last estimator can be any type and will typically be used for the modeling purpose like linear regression or classification.\n",
    "    \n",
    "Pipeline also helps safeguard against data leakage because it automatically ensures the separation of train/test set in preprocessing and modeling."
   ]
  },
  {
   "cell_type": "markdown",
   "metadata": {},
   "source": [
    "Again, we have 1 categorical feature (species) and 5 numerical features. For the categorical feature, we have 7 unique values corresponding to 7 species."
   ]
  },
  {
   "cell_type": "code",
   "execution_count": 10,
   "metadata": {},
   "outputs": [
    {
     "data": {
      "text/plain": [
       "Perch        45\n",
       "Bream        29\n",
       "Roach        14\n",
       "Pike         13\n",
       "Smelt        13\n",
       "Parkki        9\n",
       "Whitefish     3\n",
       "Name: species, dtype: int64"
      ]
     },
     "execution_count": 10,
     "metadata": {},
     "output_type": "execute_result"
    }
   ],
   "source": [
    "X_train['species'].value_counts()"
   ]
  },
  {
   "cell_type": "markdown",
   "metadata": {},
   "source": [
    "It makes the most sense to apply OneHotEncoder to this feature as there isn't any ordinal relationship among species. We should expect to have 7 new binary features after preprocessing."
   ]
  },
  {
   "cell_type": "code",
   "execution_count": 11,
   "metadata": {},
   "outputs": [],
   "source": [
    "from sklearn.pipeline import Pipeline\n",
    "from sklearn.preprocessing import OneHotEncoder\n",
    "from sklearn.preprocessing import StandardScaler"
   ]
  },
  {
   "cell_type": "code",
   "execution_count": 12,
   "metadata": {},
   "outputs": [],
   "source": [
    "# Create a pipeline to apply one hot encoder to categorical variable species\n",
    "categorical_transformer = Pipeline(steps=[('onehot', OneHotEncoder())]) #(chosen_name, transformer)"
   ]
  },
  {
   "cell_type": "markdown",
   "metadata": {},
   "source": [
    "### <br><span style=\"color:blue\"> Practice\n",
    "\n",
    "Create a pipeline to apply standard scaler to numerical variables. Set the name to 'scaler'"
   ]
  },
  {
   "cell_type": "code",
   "execution_count": 14,
   "metadata": {},
   "outputs": [],
   "source": [
    "numeric_transformer = Pipeline(steps=[('scaler', StandardScaler())])"
   ]
  },
  {
   "cell_type": "markdown",
   "metadata": {},
   "source": [
    "Now we want to combine these different pipeline and assign them to the right attributes (or columns) of the data.\n",
    "\n",
    "The sklearn class ColumnTransformer helps us do exactly that."
   ]
  },
  {
   "cell_type": "code",
   "execution_count": 15,
   "metadata": {},
   "outputs": [],
   "source": [
    "from sklearn.compose import ColumnTransformer\n",
    "categorical_columns = ['species']\n",
    "numerical_columns = feature_names[1:]  \n",
    "\n",
    "# Create preprocessor pipeline using ColumnTransformer\n",
    "preprocessor = ColumnTransformer(\n",
    "    transformers=[\n",
    "        ('num', numeric_transformer, numerical_columns), #(chosen_name, Pipeline, columns_to_apply_to)\n",
    "        ('cat', categorical_transformer, categorical_columns)])"
   ]
  },
  {
   "cell_type": "markdown",
   "metadata": {},
   "source": [
    "Now that we have our preprocessor pipeline, we can create a full model with a preprocessor step and a linear regression step."
   ]
  },
  {
   "cell_type": "code",
   "execution_count": 16,
   "metadata": {},
   "outputs": [],
   "source": [
    "from sklearn.linear_model import LinearRegression\n",
    "\n",
    "model = Pipeline(steps=[('preprocessor', preprocessor),\n",
    "                      ('regressor', LinearRegression())])"
   ]
  },
  {
   "cell_type": "code",
   "execution_count": 17,
   "metadata": {},
   "outputs": [
    {
     "data": {
      "text/plain": [
       "Pipeline(steps=[('preprocessor',\n",
       "                 ColumnTransformer(transformers=[('num',\n",
       "                                                  Pipeline(steps=[('scaler',\n",
       "                                                                   StandardScaler())]),\n",
       "                                                  array(['vertical_len', 'diag_len', 'cross_len', 'height', 'width'],\n",
       "      dtype=object)),\n",
       "                                                 ('cat',\n",
       "                                                  Pipeline(steps=[('onehot',\n",
       "                                                                   OneHotEncoder())]),\n",
       "                                                  ['species'])])),\n",
       "                ('regressor', LinearRegression())])"
      ]
     },
     "execution_count": 17,
     "metadata": {},
     "output_type": "execute_result"
    }
   ],
   "source": [
    "# We can take a look at the workflow\n",
    "model"
   ]
  },
  {
   "cell_type": "markdown",
   "metadata": {},
   "source": [
    "## <br><span style=\"color:teal\"> Fit model to data/learn weights\n",
    "\n",
    "We don't need to explicitly apply the preprocessor to our train data because sklearn already do that behind the scene.\n"
   ]
  },
  {
   "cell_type": "code",
   "execution_count": 18,
   "metadata": {},
   "outputs": [],
   "source": [
    "model.fit(X_train, Y_train);"
   ]
  },
  {
   "cell_type": "markdown",
   "metadata": {},
   "source": [
    "## <br><span style=\"color:teal\"> Predict using learned models"
   ]
  },
  {
   "cell_type": "markdown",
   "metadata": {},
   "source": [
    "After fitting the model to the train data, we can use the learned model to predict with new observations."
   ]
  },
  {
   "cell_type": "code",
   "execution_count": 19,
   "metadata": {},
   "outputs": [],
   "source": [
    "Y_pred = model.predict(X_test)"
   ]
  },
  {
   "cell_type": "code",
   "execution_count": 20,
   "metadata": {},
   "outputs": [
    {
     "data": {
      "text/plain": [
       "[Text(0.5, 0, 'True values'), Text(0, 0.5, 'Model predictions')]"
      ]
     },
     "execution_count": 20,
     "metadata": {},
     "output_type": "execute_result"
    },
    {
     "data": {
      "image/png": "[encoded data removed]",
      "text/plain": [
       "<Figure size 360x360 with 1 Axes>"
      ]
     },
     "metadata": {
      "needs_background": "light"
     },
     "output_type": "display_data"
    }
   ],
   "source": [
    "fig, ax = plt.subplots(figsize=(5, 5))\n",
    "plt.scatter(Y_test, Y_pred)\n",
    "ax.plot([0, 1], [0, 1], transform=ax.transAxes, ls=\"--\", c=\"red\")\n",
    "ax.set(xlabel='True values', ylabel='Model predictions')"
   ]
  },
  {
   "cell_type": "markdown",
   "metadata": {},
   "source": [
    "## <br><span style=\"color:teal\"> Access and interpret learned weights"
   ]
  },
  {
   "cell_type": "code",
   "execution_count": 21,
   "metadata": {},
   "outputs": [],
   "source": [
    "# Create a nice dataframe to store all the model coefficients (not including intercept)\n",
    "labels = list(model['preprocessor'].transformers_[0][2]) + list(model['preprocessor'].transformers_[1][1]['onehot'].get_feature_names(categorical_columns))\n",
    "\n",
    "coefs = pd.DataFrame(\n",
    "    model[1].coef_,\n",
    "    columns=[\"Coefficients\"],\n",
    "    index=labels,\n",
    ")"
   ]
  },
  {
   "cell_type": "code",
   "execution_count": 33,
   "metadata": {},
   "outputs": [
    {
     "data": {
      "text/plain": [
       "5.296093966873676"
      ]
     },
     "execution_count": 33,
     "metadata": {},
     "output_type": "execute_result"
    }
   ],
   "source": [
    "# To access intercept or bias\n",
    "model[1].intercept_"
   ]
  },
  {
   "cell_type": "code",
   "execution_count": 22,
   "metadata": {},
   "outputs": [
    {
     "data": {
      "image/png": "[encoded data removed]",
      "text/plain": [
       "<Figure size 720x432 with 1 Axes>"
      ]
     },
     "metadata": {
      "needs_background": "light"
     },
     "output_type": "display_data"
    }
   ],
   "source": [
    "coefs.plot.barh(figsize=(10, 6))\n",
    "plt.axvline(x=0, color=\".5\")\n",
    "plt.xlabel(\"Coefficient values\")\n",
    "plt.subplots_adjust(left=0.3)"
   ]
  },
  {
   "cell_type": "markdown",
   "metadata": {},
   "source": [
    "From this plot, we would infer that the most important factor in determining weight of a fish is whether it is a smelt and the next important factor is the vertical length of the fish. \n",
    "\n",
    "Comparing weight based on their magnitude to determine feature importance can be misleading if features vary widely, i.e., their variances/standard deviations are of different scale. However, we already standardize our dataset and eliminate this concern. Thus, it is relatively safe to make the inference above."
   ]
  },
  {
   "cell_type": "markdown",
   "metadata": {},
   "source": [
    "<!-- If coefficients vary significantly when changing the input dataset their robustness is not guaranteed, and they should probably be interpreted with caution. -->"
   ]
  },
  {
   "cell_type": "markdown",
   "metadata": {},
   "source": [
    "## <br><span style=\"color:teal\"> Evaluate learned model\n",
    "    \n",
    "As explained above, we're interested in understanding how well the learned model generalizes. There are several metrics to quantify the quality of a model"
   ]
  },
  {
   "cell_type": "markdown",
   "metadata": {},
   "source": [
    "A typical measure for regression is the mean squared error\n",
    "$$\n",
    "MSE = \\frac{1}{M} (y_{pred} - y_{obs})^2\n",
    "$$"
   ]
  },
  {
   "cell_type": "code",
   "execution_count": 23,
   "metadata": {},
   "outputs": [],
   "source": [
    "from sklearn.metrics import mean_squared_error"
   ]
  },
  {
   "cell_type": "code",
   "execution_count": 24,
   "metadata": {},
   "outputs": [
    {
     "name": "stdout",
     "output_type": "stream",
     "text": [
      "0.022032507964441214\n"
     ]
    }
   ],
   "source": [
    "mse = mean_squared_error(Y_test, Y_pred)\n",
    "print(mse)"
   ]
  },
  {
   "cell_type": "markdown",
   "metadata": {},
   "source": [
    "Another measure is $R^2$ score, which indicates a goodness of fit. More specifically, it represents the proportion of the response's variance that has been explained by the predictors. Best possible score is 1."
   ]
  },
  {
   "cell_type": "code",
   "execution_count": 25,
   "metadata": {},
   "outputs": [],
   "source": [
    "from sklearn.metrics import r2_score"
   ]
  },
  {
   "cell_type": "markdown",
   "metadata": {},
   "source": [
    "### <br><span style=\"color:blue\"> Practice\n",
    "\n",
    "Compute the $R^2$ score of the model"
   ]
  },
  {
   "cell_type": "code",
   "execution_count": 26,
   "metadata": {},
   "outputs": [],
   "source": [
    "r2s = r2_score(Y_test, Y_pred)"
   ]
  },
  {
   "cell_type": "code",
   "execution_count": 27,
   "metadata": {},
   "outputs": [
    {
     "data": {
      "text/plain": [
       "0.9832007220632911"
      ]
     },
     "execution_count": 27,
     "metadata": {},
     "output_type": "execute_result"
    }
   ],
   "source": [
    "r2s"
   ]
  },
  {
   "cell_type": "code",
   "execution_count": null,
   "metadata": {},
   "outputs": [],
   "source": []
  },
  {
   "cell_type": "markdown",
   "metadata": {},
   "source": [
    "# <br><br><span style=\"color:rebeccapurple\">Additional materials</span>"
   ]
  },
  {
   "cell_type": "markdown",
   "metadata": {},
   "source": [
    "### <br><span style=\"color:blue\"> 1. Use a different seed, i.e. changing the random_state argument in train_test_split, and rerun the whole process with this new split. \n",
    "    \n",
    "    Compute the mean squared error of the test set. \n",
    "    \n",
    "    Compare the new weights with the previous results.   "
   ]
  },
  {
   "cell_type": "code",
   "execution_count": 88,
   "metadata": {},
   "outputs": [],
   "source": [
    "X_train, X_test, Y_train, Y_test = train_test_split(X, Y, test_size=0.2, random_state=2022)"
   ]
  },
  {
   "cell_type": "code",
   "execution_count": null,
   "metadata": {},
   "outputs": [],
   "source": []
  },
  {
   "cell_type": "markdown",
   "metadata": {},
   "source": [
    "### <br><span style=\"color:blue\"> 2. With this same  train-test split, redo the whole process but without using a Pipeline. \n",
    "    \n",
    "    Compute the mean square error of the test set. Is it different from the one you obtained using Pipeline?"
   ]
  },
  {
   "cell_type": "code",
   "execution_count": 702,
   "metadata": {},
   "outputs": [],
   "source": [
    "## Preprocessing\n",
    "# Fit to train dataset\n",
    "x_train = pd.DataFrame()\n",
    "enc_side = OneHotEncoder().fit(X_train[[\"species\"]])\n",
    "scaler = StandardScaler().fit(X_train[feature_names[1:]])\n",
    "scaler_y = StandardScaler().fit(Y_train.values.reshape(-1,1))\n",
    "# Transform train dataset\n",
    "x_train[enc_side.categories_[0]] = enc_side.transform(X_train[[\"species\"]]).toarray()\n",
    "x_train[feature_names[1:]] = scaler.transform(X_train[feature_names[1:]])\n",
    "y_train = scaler_y.transform(Y_train.values.reshape(-1,1))\n",
    "y_train = pd.Series(y_train.flatten(), name='weight')"
   ]
  },
  {
   "cell_type": "code",
   "execution_count": 703,
   "metadata": {},
   "outputs": [],
   "source": [
    "# Transform test dataset\n",
    "x_test = pd.DataFrame()\n",
    "x_test[enc_side.categories_[0]] = enc_side.transform(X_test[[\"species\"]]).toarray()\n",
    "x_test[feature_names[1:]] = scaler.transform(X_test[feature_names[1:]])\n",
    "y_test = scaler_y.transform(Y_test.values.reshape(-1,1))\n",
    "y_test = pd.Series(y_test.flatten(), name='weight')"
   ]
  },
  {
   "cell_type": "code",
   "execution_count": 750,
   "metadata": {},
   "outputs": [],
   "source": [
    "model_manual = LinearRegression()"
   ]
  },
  {
   "cell_type": "code",
   "execution_count": null,
   "metadata": {},
   "outputs": [],
   "source": [
    "# Fit the model to train data\n",
    "# model_manual.fit()"
   ]
  },
  {
   "cell_type": "code",
   "execution_count": null,
   "metadata": {},
   "outputs": [],
   "source": []
  },
  {
   "cell_type": "markdown",
   "metadata": {},
   "source": [
    "### <br><span style=\"color:blue\"> 3. Rerun the entire pipeline with raw response values, i.e. not applying log transformation on Y, and see how that affect the model."
   ]
  },
  {
   "cell_type": "code",
   "execution_count": 89,
   "metadata": {},
   "outputs": [],
   "source": [
    "# Split the dataset into predictors and response\n",
    "X = df[feature_names]\n",
    "Y = df['weight']"
   ]
  },
  {
   "cell_type": "code",
   "execution_count": 309,
   "metadata": {},
   "outputs": [],
   "source": [
    "# Split data into train-test sets & create pipeline\n"
   ]
  },
  {
   "cell_type": "code",
   "execution_count": null,
   "metadata": {},
   "outputs": [],
   "source": []
  },
  {
   "cell_type": "code",
   "execution_count": 148,
   "metadata": {},
   "outputs": [],
   "source": [
    "# Hint: linear regression assumes normal distribution for variables. The plot below may explain the difference. (Run this after you split your data)\n",
    "\n",
    "# train_dataset = X_train.copy()\n",
    "# train_dataset.insert(0, \"weight\", Y_train)\n",
    "# sns.pairplot(train_dataset, kind=\"scatter\", diag_kind=\"kde\", corner=True)"
   ]
  },
  {
   "cell_type": "code",
   "execution_count": null,
   "metadata": {},
   "outputs": [],
   "source": []
  },
  {
   "cell_type": "code",
   "execution_count": null,
   "metadata": {},
   "outputs": [],
   "source": []
  },
  {
   "cell_type": "markdown",
   "metadata": {},
   "source": [
    "### <br><span style=\"color:blue\"> 4. Logistic model\n",
    "    \n",
    "In all the examples above, we attempt to predict the weight (in log space) of a fish. Build a model to predict the species based on physical attributes. This is be a classification problem and you should use a logistice regression model."
   ]
  },
  {
   "cell_type": "code",
   "execution_count": 38,
   "metadata": {},
   "outputs": [],
   "source": [
    "from sklearn.linear_model import LogisticRegression"
   ]
  },
  {
   "cell_type": "code",
   "execution_count": null,
   "metadata": {},
   "outputs": [],
   "source": []
  },
  {
   "cell_type": "code",
   "execution_count": null,
   "metadata": {},
   "outputs": [],
   "source": []
  }
 ],
 "metadata": {
  "kernelspec": {
   "display_name": "Python 3 (ipykernel)",
   "language": "python",
   "name": "python3"
  },
  "language_info": {
   "codemirror_mode": {
    "name": "ipython",
    "version": 3
   },
   "file_extension": ".py",
   "mimetype": "text/x-python",
   "name": "python",
   "nbconvert_exporter": "python",
   "pygments_lexer": "ipython3",
   "version": "3.9.12"
  }
 },
 "nbformat": 4,
 "nbformat_minor": 4
}
